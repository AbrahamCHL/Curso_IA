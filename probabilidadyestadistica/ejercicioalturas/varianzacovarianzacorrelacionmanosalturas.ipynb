{
 "cells": [
  {
   "cell_type": "code",
   "execution_count": 1,
   "metadata": {},
   "outputs": [
    {
     "name": "stdout",
     "output_type": "stream",
     "text": [
      "Alturas\n"
     ]
    },
    {
     "data": {
      "image/png": "[encoded data removed]",
      "text/plain": [
       "<Figure size 432x288 with 1 Axes>"
      ]
     },
     "metadata": {
      "needs_background": "light"
     },
     "output_type": "display_data"
    },
    {
     "name": "stdout",
     "output_type": "stream",
     "text": [
      "manos\n"
     ]
    },
    {
     "data": {
      "image/png": "[encoded data removed]",
      "text/plain": [
       "<Figure size 432x288 with 1 Axes>"
      ]
     },
     "metadata": {
      "needs_background": "light"
     },
     "output_type": "display_data"
    }
   ],
   "source": [
    "import matplotlib.pyplot as plt\n",
    "import numpy as np\n",
    "from pylab import *\n",
    "from scipy import stats \n",
    "\n",
    "alturas = [180,178,165,163,177,169,177,171,176,182,175,172,167,186,170,158,174]\n",
    "plt.hist(alturas)\n",
    "print(\"Alturas\")\n",
    "plt.show()\n",
    "manos = [20,20,17,16,18,18,19,18,18,21,20,17,15,20,18,17,19]\n",
    "\n",
    "plt.hist(manos,5)\n",
    "print(\"manos\")\n",
    "plt.show()"
   ]
  },
  {
   "cell_type": "code",
   "execution_count": 6,
   "metadata": {},
   "outputs": [
    {
     "name": "stdout",
     "output_type": "stream",
     "text": [
      "Media alturas\n",
      "172.94117647058823\n",
      "Mediana alturas\n",
      "174.0\n",
      "Varianza alturas\n",
      "48.52595155709342\n",
      "desviacion estandard alturas\n",
      "6.966057102629393\n",
      "Media manos\n",
      "18.294117647058822\n",
      "Mediana manos\n",
      "18.0\n",
      "Varianza manos\n",
      "2.442906574394464\n",
      "desviacion estandard manos\n",
      "1.5629800300689909\n"
     ]
    }
   ],
   "source": [
    "print(\"Media alturas\")\n",
    "medialturas = np.mean(alturas)\n",
    "print(medialturas)\n",
    "print(\"Mediana alturas\")\n",
    "medianalturas = np.median(alturas)\n",
    "print(medianalturas)\n",
    "print(\"Varianza alturas\")\n",
    "varianzalturas = np.var(alturas)\n",
    "print(varianzalturas)\n",
    "print(\"desviacion estandard alturas\")\n",
    "dsalturas = np.std(alturas)\n",
    "print(dsalturas)\n",
    "print(\"Media manos\")\n",
    "mediamanos = np.mean(manos)\n",
    "print(mediamanos)\n",
    "print(\"Mediana manos\")\n",
    "medianamanos = np.median(manos)\n",
    "print(medianamanos)\n",
    "print(\"Varianza manos\")\n",
    "varianzamanos = np.var(manos)\n",
    "print(varianzamanos)\n",
    "print(\"desviacion estandard manos\")\n",
    "dsmanos = np.std(manos)\n",
    "print(dsmanos)"
   ]
  },
  {
   "cell_type": "code",
   "execution_count": null,
   "metadata": {},
   "outputs": [],
   "source": [
    "#COVARIANZA Y CORELACION"
   ]
  },
  {
   "cell_type": "code",
   "execution_count": 2,
   "metadata": {},
   "outputs": [
    {
     "name": "stdout",
     "output_type": "stream",
     "text": [
      "Covarianza\n",
      "[[ 2.44290657  8.72318339]\n",
      " [ 8.72318339 48.52595156]]\n",
      "Correlación\n",
      "[[1.        0.8011882]\n",
      " [0.8011882 1.       ]]\n"
     ]
    },
    {
     "data": {
      "image/png": "[encoded data removed]",
      "text/plain": [
       "<Figure size 432x288 with 1 Axes>"
      ]
     },
     "metadata": {
      "needs_background": "light"
     },
     "output_type": "display_data"
    }
   ],
   "source": [
    "scatter(alturas, manos)\n",
    "\n",
    "print(\"Covarianza\")\n",
    "#By default numpy.cov calculates the sample covariance. \n",
    "#To obtain the population covariance you can specify normalisation by the total N sample\n",
    "print(np.cov(manos, alturas, bias=True))\n",
    "print(\"Correlación\")\n",
    "print(np.corrcoef(manos, alturas))"
   ]
  },
  {
   "cell_type": "code",
   "execution_count": null,
   "metadata": {},
   "outputs": [
    {
     "name": "stdout",
     "output_type": "stream",
     "text": [
      "0.17976326297775247 -12.794352538505429\n",
      "0.6419025296981784\n",
      "[15.60824301 15.71096488 15.81368674 15.91640861 16.01913047 16.12185233\n",
      " 16.2245742  16.32729606 16.43001793 16.53273979 16.63546166 16.73818352\n",
      " 16.84090539 16.94362725 17.04634912 17.14907098 17.25179284 17.35451471\n",
      " 17.45723657 17.55995844 17.6626803  17.76540217 17.86812403 17.9708459\n",
      " 18.07356776 18.17628963 18.27901149 18.38173336 18.48445522 18.58717708\n",
      " 18.68989895 18.79262081 18.89534268 18.99806454 19.10078641 19.20350827\n",
      " 19.30623014 19.408952   19.51167387 19.61439573 19.71711759 19.81983946\n",
      " 19.92256132 20.02528319 20.12800505 20.23072692 20.33344878 20.43617065\n",
      " 20.53889251 20.64161438]\n"
     ]
    },
    {
     "data": {
      "image/png": "[encoded data removed]",
      "text/plain": [
       "<Figure size 432x288 with 1 Axes>"
      ]
     },
     "metadata": {
      "needs_background": "light"
     },
     "output_type": "display_data"
    }
   ],
   "source": [
    "slope, intercept, r_value, p_value, std_err = stats.linregress(alturas,manos)\n",
    "print(slope, intercept)\n",
    "r_value ** 2\n",
    "print(r_value**2)\n",
    "\n",
    "x = np.linspace(158,186)\n",
    "y = slope * x + intercept\n",
    "print(y)\n",
    "\n",
    "plt.scatter(alturas, manos)\n",
    "plt.plot(x, y, c='r')\n",
    "plt.show()\n",
    "\n",
    "paltura = int(input(\"Introducir altura: \"))\n",
    "prediccion = slope * paltura + intercept\n",
    "print(prediccion)\n",
    "#R cuadrado\n",
    "print(\"R cuadrado\")"
   ]
  },
  {
   "cell_type": "code",
   "execution_count": null,
   "metadata": {},
   "outputs": [],
   "source": []
  }
 ],
 "metadata": {
  "kernelspec": {
   "display_name": "Python 3",
   "language": "python",
   "name": "python3"
  },
  "language_info": {
   "codemirror_mode": {
    "name": "ipython",
    "version": 3
   },
   "file_extension": ".py",
   "mimetype": "text/x-python",
   "name": "python",
   "nbconvert_exporter": "python",
   "pygments_lexer": "ipython3",
   "version": "3.8.3"
  }
 },
 "nbformat": 4,
 "nbformat_minor": 4
}
