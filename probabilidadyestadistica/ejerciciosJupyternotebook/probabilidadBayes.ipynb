{
 "cells": [
  {
   "cell_type": "code",
   "execution_count": 2,
   "metadata": {
    "scrolled": true
   },
   "outputs": [
    {
     "data": {
      "text/html": [
       "<div>\n",
       "<style scoped>\n",
       "    .dataframe tbody tr th:only-of-type {\n",
       "        vertical-align: middle;\n",
       "    }\n",
       "\n",
       "    .dataframe tbody tr th {\n",
       "        vertical-align: top;\n",
       "    }\n",
       "\n",
       "    .dataframe thead th {\n",
       "        text-align: right;\n",
       "    }\n",
       "</style>\n",
       "<table border=\"1\" class=\"dataframe\">\n",
       "  <thead>\n",
       "    <tr style=\"text-align: right;\">\n",
       "      <th></th>\n",
       "      <th>Documento</th>\n",
       "      <th>Palabras</th>\n",
       "      <th>Clase</th>\n",
       "    </tr>\n",
       "  </thead>\n",
       "  <tbody>\n",
       "    <tr>\n",
       "      <th>0</th>\n",
       "      <td>1</td>\n",
       "      <td>I loved the movie</td>\n",
       "      <td>+</td>\n",
       "    </tr>\n",
       "    <tr>\n",
       "      <th>1</th>\n",
       "      <td>2</td>\n",
       "      <td>I hated the movie</td>\n",
       "      <td>-</td>\n",
       "    </tr>\n",
       "    <tr>\n",
       "      <th>2</th>\n",
       "      <td>3</td>\n",
       "      <td>A great movie. Good movie.</td>\n",
       "      <td>+</td>\n",
       "    </tr>\n",
       "    <tr>\n",
       "      <th>3</th>\n",
       "      <td>4</td>\n",
       "      <td>Poor acting</td>\n",
       "      <td>-</td>\n",
       "    </tr>\n",
       "    <tr>\n",
       "      <th>4</th>\n",
       "      <td>5</td>\n",
       "      <td>Great acting. A good movie.</td>\n",
       "      <td>+</td>\n",
       "    </tr>\n",
       "    <tr>\n",
       "      <th>5</th>\n",
       "      <td>6</td>\n",
       "      <td>Good movie but poor acting</td>\n",
       "      <td>+</td>\n",
       "    </tr>\n",
       "  </tbody>\n",
       "</table>\n",
       "</div>"
      ],
      "text/plain": [
       "   Documento                     Palabras Clase\n",
       "0          1            I loved the movie     +\n",
       "1          2            I hated the movie     -\n",
       "2          3   A great movie. Good movie.     +\n",
       "3          4                  Poor acting     -\n",
       "4          5  Great acting. A good movie.     +\n",
       "5          6   Good movie but poor acting     +"
      ]
     },
     "execution_count": 2,
     "metadata": {},
     "output_type": "execute_result"
    }
   ],
   "source": [
    "from collections import Counter\n",
    "import pandas as pd\n",
    "from sklearn.feature_extraction.text import CountVectorizer\n",
    "from sklearn.naive_bayes import MultinomialNB\n",
    "\n",
    "\n",
    "df = pd.read_csv('./documentos/documentos.csv')\n",
    "df"
   ]
  },
  {
   "cell_type": "code",
   "execution_count": 3,
   "metadata": {},
   "outputs": [],
   "source": [
    "#Funciones\n",
    "def limpiarString(cadena, caracteresAremplazar, nuevoValor):\n",
    "    \n",
    "    for elem in caracteresAremplazar:\n",
    "       \n",
    "        if elem in cadena:\n",
    "            \n",
    "            cadena = cadena.replace(elem, nuevoValor)\n",
    "    \n",
    "    return  cadena\n",
    "\n",
    "def sacarPalabrasDiff(lista):\n",
    "    cnt = Counter()\n",
    "    for x in lista:\n",
    "        cnt[x]+=1\n",
    "        \n",
    "    return cnt  \n",
    "\n",
    "def crearListaDePalabrasDiff(diccionario):\n",
    "    lista = []\n",
    "    for i in diccionario.keys():\n",
    "        lista.append(i)\n",
    "    \n",
    "    return lista\n",
    "\n",
    "def probabilidadDeLasPalabras(listaPalabrasDiff, listaPalabrasClase, totalPalabrasDelaClase, palabrasTotales):\n",
    "    diccionario = {}\n",
    "    for x in listaPalabrasDiff:\n",
    "        diccionario[\"{0}\".format(x)] = ((listaPalabrasClase.count(x)+1)/(totalPalabrasDelaClase+palabrasTotales))\n",
    "    \n",
    "    return diccionario\n",
    "\n",
    "def proporcion(probabilidadDelaClase, documento, diccProbabilidadClase, totalPalabrasDelaClase, palabrasTotales):\n",
    "    calculo = probabilidadDelaClase\n",
    "    for x in documento:\n",
    "        if x in diccProbabilidadClase:\n",
    "            calculo *= diccProbabilidadClase[x]\n",
    "        else:\n",
    "            calculo *= ((0+1)/(totalPalabrasDelaClase+palabrasTotales))\n",
    "    return calculo"
   ]
  },
  {
   "cell_type": "code",
   "execution_count": 4,
   "metadata": {},
   "outputs": [
    {
     "name": "stdout",
     "output_type": "stream",
     "text": [
      "[['I loved the movie', '+'], ['I hated the movie', '-'], ['A great movie. Good movie.', '+'], ['Poor acting', '-'], ['Great acting. A good movie.', '+'], ['Good movie but poor acting', '+']]\n"
     ]
    }
   ],
   "source": [
    "#Crear una lista con las positivas, negativas y con todas las frases\n",
    "x = df[['Palabras', 'Clase']]\n",
    "palabras = x.values.tolist()\n",
    "listaPositivas = []\n",
    "listaNegativas = []\n",
    "documentos = []\n",
    "#print(palabras)\n",
    "for x in range(len(palabras)):\n",
    "    documentos.append(palabras[x][0])\n",
    "    if palabras[x][1] == '+':\n",
    "        #data.append(palabras[x])\n",
    "        listaPositivas.append(palabras[x][0])\n",
    "    elif palabras[x][1] == '-':\n",
    "        #data.append(palabras[x])\n",
    "        listaNegativas.append(palabras[x][0])\n",
    "\n",
    "print(palabras)\n",
    "#print(listaPositivas)\n",
    "#print(listaNegativas)\n",
    "#print(documentos)"
   ]
  },
  {
   "cell_type": "code",
   "execution_count": 5,
   "metadata": {},
   "outputs": [
    {
     "name": "stdout",
     "output_type": "stream",
     "text": [
      "Vocabulario: 11\n",
      "Total palabras positivas: 19\n",
      "Total palabras negativas: 6\n",
      "P +: 0.6666666666666666\n",
      "P -: 0.3333333333333333\n"
     ]
    }
   ],
   "source": [
    "cadena = \"\"\n",
    "cadenaPositivas = \"\"\n",
    "cadenaNegativas = \"\"\n",
    "caracteres = ['.', ',', '\\n']\n",
    "\n",
    "#Vocabulario total\n",
    "for x in documentos:\n",
    "    cadena += x+\" \"\n",
    "\n",
    "cadena = limpiarString(cadena, caracteres, \"\")\n",
    "cadena = cadena.upper()\n",
    "listaPalabras = cadena.split()\n",
    "#print(listaPalabras)\n",
    "\n",
    "diccVocabulario = sacarPalabrasDiff(listaPalabras)\n",
    "#print(diccVocabulario)\n",
    "listaVocabulario = crearListaDePalabrasDiff(diccVocabulario)\n",
    "vocabulario = len(listaVocabulario)\n",
    "\n",
    "#Clase positiva \n",
    "for x in listaPositivas:\n",
    "    cadenaPositivas += x+\" \"\n",
    "    \n",
    "positivas = limpiarString(cadenaPositivas, caracteres , \"\") \n",
    "positivas = positivas.upper()\n",
    "positivas = positivas.split()\n",
    "\n",
    "#Creo un diccionario con las palabras y las veces que se repiten\n",
    "cntpositivas = sacarPalabrasDiff(positivas)\n",
    "\n",
    "#Creo una lista con las keys del diccionario\n",
    "diffpositivas = crearListaDePalabrasDiff(cntpositivas)\n",
    "\n",
    "totalpositivas = len(positivas)\n",
    "\n",
    "#Clase negativa\n",
    "for x in listaNegativas:\n",
    "    cadenaNegativas+=x+\" \"\n",
    "\n",
    "negativas = limpiarString(cadenaNegativas, caracteres, \"\")\n",
    "negativas = negativas.upper()\n",
    "negativas = negativas.split()\n",
    "\n",
    "cntnegativas = sacarPalabrasDiff(negativas)\n",
    "\n",
    "diffnegativas = crearListaDePalabrasDiff(cntnegativas)\n",
    "\n",
    "totalnegativas = len(negativas)\n",
    "\n",
    "Ppositiva = len(listaPositivas)/len(documentos)\n",
    "Pnegativa = len(listaNegativas)/len(documentos)\n",
    "\n",
    "print(f\"Vocabulario: {vocabulario}\")\n",
    "print(f\"Total palabras positivas: {totalpositivas}\")\n",
    "print(f\"Total palabras negativas: {totalnegativas}\")\n",
    "print(f\"P +: {Ppositiva}\")\n",
    "print(f\"P -: {Pnegativa}\")"
   ]
  },
  {
   "cell_type": "code",
   "execution_count": 6,
   "metadata": {},
   "outputs": [
    {
     "name": "stdout",
     "output_type": "stream",
     "text": [
      "DOCUMENTO NUEVO\n",
      "Proporcion del que el documento sea de la clase positiva 7.901234567901235e-06\n",
      "Proporcion del que el documento sea de la clase negativo 1.8781234072633135e-06\n",
      "Este documento tiene mas proporcion de la clase positivo\n"
     ]
    }
   ],
   "source": [
    "dpositivas = {}\n",
    "dnegativas = {}\n",
    "\n",
    "dpositivas = probabilidadDeLasPalabras(diffpositivas, positivas, totalpositivas, vocabulario)\n",
    "\n",
    "dnegativas = probabilidadDeLasPalabras(diffnegativas, negativas, totalnegativas, vocabulario)\n",
    "\n",
    "print(\"DOCUMENTO NUEVO\")\n",
    "\n",
    "documentoNuevo = \"good movie but poor acting\"\n",
    "\n",
    "documentoNuevo = limpiarString(documentoNuevo, caracteres, \"\")\n",
    "documentoNuevo = documentoNuevo.upper()\n",
    "documentoNuevo = documentoNuevo.split()\n",
    "\n",
    "proporcionClasePositivo = proporcion(Ppositiva,documentoNuevo,dpositivas,totalpositivas,vocabulario)\n",
    "\n",
    "proporcionClaseNegativa = proporcion(Pnegativa,documentoNuevo,dnegativas,totalnegativas,vocabulario)\n",
    "            \n",
    "\n",
    "print(f\"Proporcion del que el documento sea de la clase positiva {proporcionClasePositivo}\")\n",
    "print(f\"Proporcion del que el documento sea de la clase negativo {proporcionClaseNegativa}\")        \n",
    "\n",
    "if proporcionClasePositivo > proporcionClaseNegativa:\n",
    "    print(\"Este documento tiene mas proporcion de la clase positivo\")\n",
    "elif proporcionClasePositivo < proporcionClaseNegativa:\n",
    "    print(\"Este documento tiene mas proporcion de la clase negativa\")\n",
    "elif proporcionClaseNegativa == proporcionClasePositivo:\n",
    "    print(\"Este documento tiene la misma proporcion en las dos clases\")\n",
    "    "
   ]
  },
  {
   "cell_type": "code",
   "execution_count": 7,
   "metadata": {},
   "outputs": [
    {
     "data": {
      "text/html": [
       "<div>\n",
       "<style scoped>\n",
       "    .dataframe tbody tr th:only-of-type {\n",
       "        vertical-align: middle;\n",
       "    }\n",
       "\n",
       "    .dataframe tbody tr th {\n",
       "        vertical-align: top;\n",
       "    }\n",
       "\n",
       "    .dataframe thead th {\n",
       "        text-align: right;\n",
       "    }\n",
       "</style>\n",
       "<table border=\"1\" class=\"dataframe\">\n",
       "  <thead>\n",
       "    <tr style=\"text-align: right;\">\n",
       "      <th></th>\n",
       "      <th>message</th>\n",
       "      <th>class</th>\n",
       "    </tr>\n",
       "  </thead>\n",
       "  <tbody>\n",
       "    <tr>\n",
       "      <th>0</th>\n",
       "      <td>I loved the movie</td>\n",
       "      <td>+</td>\n",
       "    </tr>\n",
       "    <tr>\n",
       "      <th>1</th>\n",
       "      <td>I hated the movie</td>\n",
       "      <td>-</td>\n",
       "    </tr>\n",
       "    <tr>\n",
       "      <th>2</th>\n",
       "      <td>A great movie. Good movie.</td>\n",
       "      <td>+</td>\n",
       "    </tr>\n",
       "    <tr>\n",
       "      <th>3</th>\n",
       "      <td>Poor acting</td>\n",
       "      <td>-</td>\n",
       "    </tr>\n",
       "    <tr>\n",
       "      <th>4</th>\n",
       "      <td>Great acting. A good movie.</td>\n",
       "      <td>+</td>\n",
       "    </tr>\n",
       "    <tr>\n",
       "      <th>5</th>\n",
       "      <td>Good movie but poor acting</td>\n",
       "      <td>+</td>\n",
       "    </tr>\n",
       "  </tbody>\n",
       "</table>\n",
       "</div>"
      ],
      "text/plain": [
       "                       message class\n",
       "0            I loved the movie     +\n",
       "1            I hated the movie     -\n",
       "2   A great movie. Good movie.     +\n",
       "3                  Poor acting     -\n",
       "4  Great acting. A good movie.     +\n",
       "5   Good movie but poor acting     +"
      ]
     },
     "execution_count": 7,
     "metadata": {},
     "output_type": "execute_result"
    }
   ],
   "source": [
    "data = pd.DataFrame(palabras, columns = ['message', 'class'])\n",
    "data"
   ]
  },
  {
   "cell_type": "code",
   "execution_count": 12,
   "metadata": {},
   "outputs": [
    {
     "data": {
      "text/plain": [
       "MultinomialNB()"
      ]
     },
     "execution_count": 12,
     "metadata": {},
     "output_type": "execute_result"
    }
   ],
   "source": [
    "vectorizer = CountVectorizer()\n",
    "counts = vectorizer.fit_transform(data['message'].values)\n",
    "#print(counts)\n",
    "classifier = MultinomialNB()\n",
    "targets = data['class'].values\n",
    "classifier.fit(counts, targets)"
   ]
  },
  {
   "cell_type": "code",
   "execution_count": 11,
   "metadata": {},
   "outputs": [
    {
     "data": {
      "text/plain": [
       "array(['+'], dtype='<U1')"
      ]
     },
     "execution_count": 11,
     "metadata": {},
     "output_type": "execute_result"
    }
   ],
   "source": [
    "examples = [\"Good movie\"]\n",
    "example_counts = vectorizer.transform(examples)\n",
    "predictions = classifier.predict(example_counts)\n",
    "predictions"
   ]
  }
 ],
 "metadata": {
  "kernelspec": {
   "display_name": "Python 3",
   "language": "python",
   "name": "python3"
  },
  "language_info": {
   "codemirror_mode": {
    "name": "ipython",
    "version": 3
   },
   "file_extension": ".py",
   "mimetype": "text/x-python",
   "name": "python",
   "nbconvert_exporter": "python",
   "pygments_lexer": "ipython3",
   "version": "3.8.3"
  }
 },
 "nbformat": 4,
 "nbformat_minor": 4
}
