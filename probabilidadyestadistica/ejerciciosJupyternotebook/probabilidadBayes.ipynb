{
 "cells": [
  {
   "cell_type": "code",
   "execution_count": 20,
   "metadata": {},
   "outputs": [
    {
     "name": "stdout",
     "output_type": "stream",
     "text": [
      "['I loved the movie', 'I hated the movie', 'A great movie Good movie', 'Poor acting', 'Great acting A good movie']\n"
     ]
    }
   ],
   "source": [
    "import pandas as pd\n",
    "import re\n",
    "\n",
    "positivos = 0\n",
    "negativos = 0\n",
    "datos = []\n",
    "cadena = \"\"\n",
    "#palabras \n",
    "\n",
    "file = open(\"./documentos/documento\",\"r\")\n",
    "archivo = file.readlines()\n",
    "\n",
    "#Limpieza de datos\n",
    "for x in archivo:\n",
    "    x = x.replace(\".\",\"\")\n",
    "    x = x.replace(\",\",\"\")\n",
    "    x = x.replace(\"\\n\",\"\")\n",
    "    datos.append(x)\n",
    "    \n",
    "\n",
    "print(datos)\n",
    "#Detección de documentos positivos o negativos\n",
    "\n"
   ]
  },
  {
   "cell_type": "code",
   "execution_count": 47,
   "metadata": {},
   "outputs": [
    {
     "name": "stdout",
     "output_type": "stream",
     "text": [
      "I LOVED THE MOVIE I HATED THE MOVIE A GREAT MOVIE GOOD MOVIE POOR ACTING GREAT ACTING A GOOD MOVIE \n",
      "dict_keys(['I', 'LOVED', 'THE', 'MOVIE', 'HATED', 'A', 'GREAT', 'GOOD', 'POOR', 'ACTING'])\n",
      "10\n"
     ]
    }
   ],
   "source": [
    "from collections import Counter\n",
    "positivas = []\n",
    "negativas = []\n",
    "\n",
    "cnt = Counter()\n",
    "cadena = \"\"\n",
    "#Limpieza de datos\n",
    "for x in archivo:\n",
    "    x = x.replace(\".\",\"\")\n",
    "    x = x.replace(\",\",\"\")\n",
    "    x = x.replace(\"\\n\",\"\")\n",
    "    cadena += x+\" \"\n",
    "\n",
    "cadena = cadena.upper()\n",
    "print(cadena)\n",
    "\n",
    "\n",
    "cadena = cadena.split()\n",
    "\n",
    "for x in cadena:\n",
    "    cnt[x]+=1\n",
    "\n",
    "    \n",
    "print(cnt.keys())\n",
    "\n",
    "vocabulario = len(cnt)\n",
    "print(vocabulario)\n",
    "\n",
    "\n",
    "\n",
    "        \n"
   ]
  }
 ],
 "metadata": {
  "kernelspec": {
   "display_name": "Python 3",
   "language": "python",
   "name": "python3"
  },
  "language_info": {
   "codemirror_mode": {
    "name": "ipython",
    "version": 3
   },
   "file_extension": ".py",
   "mimetype": "text/x-python",
   "name": "python",
   "nbconvert_exporter": "python",
   "pygments_lexer": "ipython3",
   "version": "3.8.3"
  }
 },
 "nbformat": 4,
 "nbformat_minor": 4
}
