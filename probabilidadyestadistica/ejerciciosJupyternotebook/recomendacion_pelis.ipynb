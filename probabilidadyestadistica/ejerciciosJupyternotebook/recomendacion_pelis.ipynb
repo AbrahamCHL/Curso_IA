{
 "cells": [
  {
   "cell_type": "code",
   "execution_count": null,
   "metadata": {},
   "outputs": [],
   "source": [
    "import pandas as pd\n",
    "\n",
    "ratings = pd.read_csv('/home/supay/datos/rating.csv')\n",
    "ratings = ratings[['user_id','anime_id','rating']]\n",
    "movies = pd.read_csv('/home/supay/datos/anime.csv')\n",
    "movies = movies[['anime_id','name']]\n",
    "movies = movies.head(3000)\n",
    "#movies['name'] = movies['name'].str.replace(r'[./;&°#!:-]', '',regex=True)\n",
    "#movies['name'].apply(lambda x: x.str.slice(0, 20))\n",
    "#movies['name'] = movies['name'].str.slice(0,64)\n",
    "#movies.name = movies.name.str.rstrip()\n",
    "#movies.replace(to_replace=r'^ba.$/;', value='', regex=True)\n",
    "#ratings = ratings.sample(n = 10000)\n",
    "ratings = ratings.head(2000000)\n",
    "ratings = pd.merge(movies, ratings)\n",
    "\n",
    "#dif = ratings.anime_id.unique()\n",
    "#print(len(dif))\n",
    "movies"
   ]
  },
  {
   "cell_type": "code",
   "execution_count": null,
   "metadata": {
    "scrolled": true
   },
   "outputs": [],
   "source": [
    "userRatings = ratings.pivot_table(index=['user_id'],columns=['name'],values='rating')"
   ]
  },
  {
   "cell_type": "code",
   "execution_count": null,
   "metadata": {
    "scrolled": true
   },
   "outputs": [],
   "source": [
    "corrMatrix = userRatings.corr(method='pearson', min_periods=5)\n",
    "corrMatrix"
   ]
  },
  {
   "cell_type": "code",
   "execution_count": null,
   "metadata": {},
   "outputs": [],
   "source": [
    "myRatings = userRatings.loc[1].dropna()\n",
    "myRatings.head(10)"
   ]
  },
  {
   "cell_type": "code",
   "execution_count": null,
   "metadata": {},
   "outputs": [],
   "source": [
    "simCandidates = pd.Series()\n",
    "print(simCandidates)\n",
    "for i in range(0, len(myRatings.index)):\n",
    "    print (\"Añadiendo pelis similares a \" + myRatings.index[i] + \"...\")\n",
    "    # Recuperar las pelis similares a las calificadas\n",
    "    sims = corrMatrix[myRatings.index[i]].dropna()\n",
    "    # Escalar la similaridad multiplicando por la calificación de la persona\n",
    "    sims = sims.map(lambda x: x * myRatings[i])\n",
    "    # Añadir el puntaje a la lista de candidatos similares\n",
    "    simCandidates = simCandidates.append(sims)\n",
    "    \n",
    "#Mirar los resultados:\n",
    "#print (\"ordenando...\")\n",
    "simCandidates.sort_values(inplace = True, ascending = False)\n",
    "print (simCandidates.head(10))"
   ]
  },
  {
   "cell_type": "code",
   "execution_count": null,
   "metadata": {},
   "outputs": [],
   "source": [
    "simCandidates = simCandidates.groupby(simCandidates.index).sum()"
   ]
  },
  {
   "cell_type": "code",
   "execution_count": null,
   "metadata": {
    "scrolled": true
   },
   "outputs": [],
   "source": [
    "simCandidates.sort_values(inplace = True, ascending = False)\n",
    "simCandidates.head(10)"
   ]
  },
  {
   "cell_type": "code",
   "execution_count": null,
   "metadata": {},
   "outputs": [],
   "source": [
    "#print(myRatings)\n",
    "filteredSims = simCandidates.drop(myRatings.index,errors='ignore')\n",
    "filteredSims.head(10)"
   ]
  }
 ],
 "metadata": {
  "kernelspec": {
   "display_name": "Python 3",
   "language": "python",
   "name": "python3"
  },
  "language_info": {
   "codemirror_mode": {
    "name": "ipython",
    "version": 3
   },
   "file_extension": ".py",
   "mimetype": "text/x-python",
   "name": "python",
   "nbconvert_exporter": "python",
   "pygments_lexer": "ipython3",
   "version": "3.8.3"
  }
 },
 "nbformat": 4,
 "nbformat_minor": 4
}
